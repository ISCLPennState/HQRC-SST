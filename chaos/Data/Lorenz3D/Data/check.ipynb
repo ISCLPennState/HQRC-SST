{
 "cells": [
  {
   "cell_type": "code",
   "execution_count": 1,
   "metadata": {},
   "outputs": [],
   "source": [
    "import matplotlib.pyplot as plt \n",
    "import numpy as np\n",
    "import pickle"
   ]
  },
  {
   "cell_type": "code",
   "execution_count": 2,
   "metadata": {},
   "outputs": [],
   "source": [
    " with open(\"testing_data_N100000.pickle\", \"rb\") as file:\n",
    "            # Pickle the \"data\" dictionary using the highest protocol available.\n",
    "            data = pickle.load(file)"
   ]
  },
  {
   "cell_type": "code",
   "execution_count": 13,
   "metadata": {},
   "outputs": [
    {
     "name": "stdout",
     "output_type": "stream",
     "text": [
      "(60000,)\n",
      "['test_input_sequence', 'test_target_sequence', 'attractor_std', 'testing_ic_indexes', 'dt', 'sigma', 'beta', 'rho']\n"
     ]
    }
   ],
   "source": [
    "hmm = list(data)\n",
    "print(data[\"testing_ic_indexes\"].shape)\n",
    "print(hmm)"
   ]
  }
 ],
 "metadata": {
  "kernelspec": {
   "display_name": "hqr",
   "language": "python",
   "name": "python3"
  },
  "language_info": {
   "codemirror_mode": {
    "name": "ipython",
    "version": 3
   },
   "file_extension": ".py",
   "mimetype": "text/x-python",
   "name": "python",
   "nbconvert_exporter": "python",
   "pygments_lexer": "ipython3",
   "version": "3.7.7"
  }
 },
 "nbformat": 4,
 "nbformat_minor": 2
}
