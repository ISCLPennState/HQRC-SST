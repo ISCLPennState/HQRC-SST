{
 "cells": [
  {
   "cell_type": "code",
   "execution_count": 1,
   "metadata": {},
   "outputs": [],
   "source": [
    "#!/usr/bin/env python\n",
    "# # -*- coding: utf-8 -*-\n",
    "#!/usr/bin/env python\n",
    "#!pip install tensorflow==1.15\n",
    "\n",
    "import numpy as np\n",
    "import matplotlib.pyplot as plt\n",
    "import pickle\n",
    "import glob, os, inspect\n",
    "import argparse\n",
    "import time\n",
    "import seaborn as sns\n",
    "# import matplotlib\n",
    "# matplotlib.use(\"Qt5Agg\")\n",
    "# #matplotlib.use('Agg')\n",
    "# from mpl_toolkits.mplot3d import axes3d\n",
    "# import matplotlib.pyplot as plt\n",
    "import pandas as pd\n",
    "import sys,inspect\n",
    "sys.path.append(\"C:\\\\Users\\\\Vinamr J\\\\Documents\\\\qic\\\\qrc\\\\hqr\\\\hqr-master\\\\chaos\\\\Postprocess\")\n",
    "sys.path.append(\"C:\\\\Users\\\\Vinamr J\\\\Documents\\\\qic\\\\qrc\\\\hqr\\\\hqr-master\\\\chaos\\\\Methods\\\\Models\\\\Utils\")\n",
    "\n",
    "import utils  # for utils.py\n",
    "from utils import *\n",
    "import global_utils  # for global_utils.py\n",
    "\n",
    "# import utils\n",
    "# from utils import *\n",
    "# import sys\n",
    "# sys.path.append('../Methods/Models/Utils')\n",
    "# import global_utils"
   ]
  },
  {
   "cell_type": "code",
   "execution_count": 2,
   "metadata": {},
   "outputs": [
    {
     "name": "stdout",
     "output_type": "stream",
     "text": [
      "Current Directory: c:\\Users\\Vinamr J\\Documents\\qic\\qrc\\hqr\\hqr-master\\chaos\\Data\\SST\n",
      "Parent Directory: c:\\Users\\Vinamr J\\Documents\\qic\\qrc\\hqr\\hqr-master\\chaos\n",
      "c:\\Users\\Vinamr J\\Documents\\qic\\qrc\\hqr\\hqr-master\\chaos\\Results\n",
      "c:\\Users\\Vinamr J\\Documents\\qic\\qrc\\hqr\\hqr-master\\chaos\\Results\\SST\\Evaluation_Data\n",
      "c:\\Users\\Vinamr J\\Documents\\qic\\qrc\\hqr\\hqr-master\\chaos\\Results\\SST\\Trained_Models\n",
      "c:\\Users\\Vinamr J\\Documents\\qic\\qrc\\hqr\\hqr-master\\chaos\\Results\\SST\\Eval_Figures\n"
     ]
    }
   ],
   "source": [
    "sysname, tidx = \"SST\", 2\n",
    "file_path = os.path.abspath(\"GRU_analysis.ipynb\")\n",
    "current_directory = os.path.dirname(file_path)\n",
    "mid_directory = os.path.dirname(current_directory)\n",
    "parent_directory = os.path.dirname(mid_directory)\n",
    "\n",
    "print(\"Current Directory:\", current_directory)\n",
    "print(\"Parent Directory:\", parent_directory)\n",
    "\n",
    "#current_dir = os.path.dirname(os.path.abspath(inspect.getfile(inspect.currentframe())))\n",
    "results_dir = os.path.join(os.path.dirname(mid_directory), \"Results\")  # Use os.path.join for path concatenation\n",
    "print(results_dir)\n",
    "\n",
    "eval_path = os.path.join(results_dir, sysname, 'Evaluation_Data')\n",
    "print(eval_path)\n",
    "\n",
    "model_path = os.path.join(results_dir, sysname, 'Trained_Models')\n",
    "print(model_path)\n",
    "\n",
    "fig_path = os.path.join(results_dir, sysname, 'Eval_Figures')\n",
    "if not os.path.isdir(fig_path):\n",
    "    os.makedirs(fig_path)  # Use os.makedirs to create parent directories if needed\n",
    "print(fig_path)"
   ]
  },
  {
   "cell_type": "code",
   "execution_count": 10,
   "metadata": {},
   "outputs": [],
   "source": [
    "models = []\n",
    "samples = []\n",
    "size_values = [80,120,250,500,1000,2000]\n",
    "layer_values = [1,2,3]\n",
    "for size in size_values:\n",
    "    for layers in layer_values:\n",
    "        string1 = f\"RNN-gru-RDIM_5-N_used_427-NLAY_{layers}-SLAY_{size}-ISH_statefull-SL_16-PL_16-LR_0.001-DKP_1.0-ZKP_1.0-HSPL_70-IPL_300-NL_0-NICS_3\"\n",
    "        string2 = f\"GRU-{size}-({layers})\"\n",
    "        models.append([os.path.join(eval_path,string1),string2])\n",
    "        samples.append(string2)\n",
    "title = \"Sea Surface Temperatures\""
   ]
  },
  {
   "cell_type": "code",
   "execution_count": 3,
   "metadata": {},
   "outputs": [],
   "source": [
    "# models = [[os.path.join(eval_path, \"hqrc_pinv-RDIM_5-N_used_427-DL_40-Nqr_5-A_0.9-J_2.0-fJ_1-V_10-NL_0-IPL_20-IUL_0-REG_1e-07-AU_0-NICS_3\"),\"HQR-5,V-10,DL=40,IPL=20,n_tests=3\"],\n",
    "#           [os.path.join(eval_path, \"hqrc_pinv-RDIM_5-N_used_427-DL_8-Nqr_5-A_0.9-J_2.0-fJ_1-V_10-NL_0-IPL_8-IUL_0-REG_1e-07-AU_0-NICS_1\"),\"HQR-5,V-10,DL=8,IPL=8,n_tests=1\"],\n",
    "#           [os.path.join(eval_path, \"hqrc_pinv-RDIM_5-N_used_427-DL_40-Nqr_5-A_0.9-J_2.0-fJ_1-V_10-NL_0-IPL_300-IUL_0-REG_1e-07-AU_0-NICS_1\"),\"HQR-5,V-10,DL=40,IPL=300,n_tests=1\"]]\n",
    "# samples = [\"HQR-5,V-10,DL=40,IPL=20,n_tests=3\",\"HQR-5,V-10,DL=8,IPL=8,n_tests=1\",\"HQR-5,V-10,DL=40,IPL=300,n_tests=1\"]\n",
    "# title = \"Sea Surface Temperatures\""
   ]
  },
  {
   "cell_type": "code",
   "execution_count": 11,
   "metadata": {},
   "outputs": [
    {
     "name": "stdout",
     "output_type": "stream",
     "text": [
      "(3, 300, 5)\n",
      "RNN-gru-RDIM_5-N_used_427-NLAY_1-SLAY_80-ISH_statefull-SL_16-PL_16-LR_0.001-DKP_1.0-ZKP_1.0-HSPL_70-IPL_300-NL_0-NICS_3 Number of test 3\n",
      "(300,)\n",
      "(3, 300, 5)\n",
      "RNN-gru-RDIM_5-N_used_427-NLAY_2-SLAY_80-ISH_statefull-SL_16-PL_16-LR_0.001-DKP_1.0-ZKP_1.0-HSPL_70-IPL_300-NL_0-NICS_3 Number of test 3\n",
      "(300,)\n",
      "(3, 300, 5)\n",
      "RNN-gru-RDIM_5-N_used_427-NLAY_3-SLAY_80-ISH_statefull-SL_16-PL_16-LR_0.001-DKP_1.0-ZKP_1.0-HSPL_70-IPL_300-NL_0-NICS_3 Number of test 3\n",
      "(300,)\n",
      "(3, 300, 5)\n",
      "RNN-gru-RDIM_5-N_used_427-NLAY_1-SLAY_120-ISH_statefull-SL_16-PL_16-LR_0.001-DKP_1.0-ZKP_1.0-HSPL_70-IPL_300-NL_0-NICS_3 Number of test 3\n",
      "(300,)\n",
      "(3, 300, 5)\n",
      "RNN-gru-RDIM_5-N_used_427-NLAY_2-SLAY_120-ISH_statefull-SL_16-PL_16-LR_0.001-DKP_1.0-ZKP_1.0-HSPL_70-IPL_300-NL_0-NICS_3 Number of test 3\n",
      "(300,)\n",
      "(3, 300, 5)\n",
      "RNN-gru-RDIM_5-N_used_427-NLAY_3-SLAY_120-ISH_statefull-SL_16-PL_16-LR_0.001-DKP_1.0-ZKP_1.0-HSPL_70-IPL_300-NL_0-NICS_3 Number of test 3\n",
      "(300,)\n",
      "(3, 300, 5)\n",
      "RNN-gru-RDIM_5-N_used_427-NLAY_1-SLAY_250-ISH_statefull-SL_16-PL_16-LR_0.001-DKP_1.0-ZKP_1.0-HSPL_70-IPL_300-NL_0-NICS_3 Number of test 3\n",
      "(300,)\n",
      "(3, 300, 5)\n",
      "RNN-gru-RDIM_5-N_used_427-NLAY_2-SLAY_250-ISH_statefull-SL_16-PL_16-LR_0.001-DKP_1.0-ZKP_1.0-HSPL_70-IPL_300-NL_0-NICS_3 Number of test 3\n",
      "(300,)\n",
      "(3, 300, 5)\n",
      "RNN-gru-RDIM_5-N_used_427-NLAY_3-SLAY_250-ISH_statefull-SL_16-PL_16-LR_0.001-DKP_1.0-ZKP_1.0-HSPL_70-IPL_300-NL_0-NICS_3 Number of test 3\n",
      "(300,)\n",
      "(3, 300, 5)\n",
      "RNN-gru-RDIM_5-N_used_427-NLAY_1-SLAY_500-ISH_statefull-SL_16-PL_16-LR_0.001-DKP_1.0-ZKP_1.0-HSPL_70-IPL_300-NL_0-NICS_3 Number of test 3\n",
      "(300,)\n",
      "(3, 300, 5)\n",
      "RNN-gru-RDIM_5-N_used_427-NLAY_2-SLAY_500-ISH_statefull-SL_16-PL_16-LR_0.001-DKP_1.0-ZKP_1.0-HSPL_70-IPL_300-NL_0-NICS_3 Number of test 3\n",
      "(300,)\n",
      "(3, 300, 5)\n",
      "RNN-gru-RDIM_5-N_used_427-NLAY_3-SLAY_500-ISH_statefull-SL_16-PL_16-LR_0.001-DKP_1.0-ZKP_1.0-HSPL_70-IPL_300-NL_0-NICS_3 Number of test 3\n",
      "(300,)\n",
      "(3, 300, 5)\n",
      "RNN-gru-RDIM_5-N_used_427-NLAY_1-SLAY_1000-ISH_statefull-SL_16-PL_16-LR_0.001-DKP_1.0-ZKP_1.0-HSPL_70-IPL_300-NL_0-NICS_3 Number of test 3\n",
      "(300,)\n",
      "(3, 300, 5)\n",
      "RNN-gru-RDIM_5-N_used_427-NLAY_2-SLAY_1000-ISH_statefull-SL_16-PL_16-LR_0.001-DKP_1.0-ZKP_1.0-HSPL_70-IPL_300-NL_0-NICS_3 Number of test 3\n",
      "(300,)\n",
      "(3, 300, 5)\n",
      "RNN-gru-RDIM_5-N_used_427-NLAY_3-SLAY_1000-ISH_statefull-SL_16-PL_16-LR_0.001-DKP_1.0-ZKP_1.0-HSPL_70-IPL_300-NL_0-NICS_3 Number of test 3\n",
      "(300,)\n",
      "(3, 300, 5)\n",
      "RNN-gru-RDIM_5-N_used_427-NLAY_1-SLAY_2000-ISH_statefull-SL_16-PL_16-LR_0.001-DKP_1.0-ZKP_1.0-HSPL_70-IPL_300-NL_0-NICS_3 Number of test 3\n",
      "(300,)\n",
      "(3, 300, 5)\n",
      "RNN-gru-RDIM_5-N_used_427-NLAY_2-SLAY_2000-ISH_statefull-SL_16-PL_16-LR_0.001-DKP_1.0-ZKP_1.0-HSPL_70-IPL_300-NL_0-NICS_3 Number of test 3\n",
      "(300,)\n",
      "(3, 300, 5)\n",
      "RNN-gru-RDIM_5-N_used_427-NLAY_3-SLAY_2000-ISH_statefull-SL_16-PL_16-LR_0.001-DKP_1.0-ZKP_1.0-HSPL_70-IPL_300-NL_0-NICS_3 Number of test 3\n",
      "(300,)\n"
     ]
    }
   ],
   "source": [
    "rmse_dict = dict()\n",
    "targets = dict()\n",
    "outputs = dict()\n",
    "sp_outputs = dict()\n",
    "sp_targets = dict()\n",
    "Wouts = dict()\n",
    "coeffs = dict()\n",
    "rmnse_avg_train_dict = dict()\n",
    "rmnse_avg_test_dict = dict()\n",
    "for i in range(len(models)):\n",
    "    rfolder, label = models[i][0], models[i][1]\n",
    "    fname = os.path.join(rfolder, 'results.pickle')\n",
    "    if os.path.isfile(fname):\n",
    "        with open(fname, 'rb') as rfile:\n",
    "            try:\n",
    "                rs = pickle.load(rfile)\n",
    "            except:\n",
    "                continue\n",
    "            #print(rs.keys())\n",
    "            qs = QResults()\n",
    "            qs.rmnse_avg_test = rs['rmnse_avg_TEST']\n",
    "            qs.rmnse_avg_train = rs['rmnse_avg_TRAIN']\n",
    "            qs.n_pred_005_avg_test = rs['num_accurate_pred_005_avg_TEST']\n",
    "            qs.n_pred_005_avg_train = rs['num_accurate_pred_005_avg_TRAIN']\n",
    "            qs.n_pred_050_avg_test = rs['num_accurate_pred_050_avg_TEST']\n",
    "            qs.n_pred_050_avg_train = rs['num_accurate_pred_050_avg_TRAIN']\n",
    "            qs.model_name = rs['model_name']\n",
    "            #if qs.rmnse_avg_test != np.inf and qs.rmnse_avg_train != np.inf:\n",
    "                #print(rs.keys())\n",
    "            #print(qs.model_name)\n",
    "            #print('train={}, test={}'.format(qs.rmnse_avg_train, qs.rmnse_avg_test))\n",
    "            #qs.info()\n",
    "            rmnse_avg_train_dict[label] = rs['rmnse_avg_TRAIN']\n",
    "            rmnse_avg_test_dict[label] = rs['rmnse_avg_TEST']\n",
    "            pred_test = rs['predictions_all_TEST']\n",
    "            truth_test = rs['truths_all_TEST']\n",
    "            print(pred_test.shape)\n",
    "            M = len(pred_test)\n",
    "            print('{} Number of test'.format(qs.model_name), M)\n",
    "            rmsels = []\n",
    "            for j in range(M):\n",
    "                    rmsels.append(calNRMSE(pred_test[j], truth_test[j]))\n",
    "\n",
    "            rmse_dict[label] = np.mean(np.array(rmsels), axis=0)\n",
    "            print(rmse_dict[label].shape)\n",
    "\n",
    "\n",
    "            targets[label] = truth_test[0]\n",
    "            outputs[label] = pred_test[0]\n",
    "\n",
    "            # For frequency\n",
    "            sp_outputs[label] = rs['sp_pred_TEST']\n",
    "            sp_targets[label] = rs['sp_true_TEST']\n",
    "    else:\n",
    "        print('Not found {}'.format(fname))\n",
    "    # if trained_models is not None:\n",
    "    #     rfolder, label = trained_models[i][0], trained_models[i][1]\n",
    "    #     fname = os.path.join(rfolder, 'data.pickle')\n",
    "    #     if os.path.isfile(fname):\n",
    "    #         print('File existed: ', fname)\n",
    "    #         with open(fname, 'rb') as rfile:\n",
    "    #             #try:\n",
    "    #             rs = pickle.load(rfile)\n",
    "    #             #except:\n",
    "    #             #    continue\n",
    "    #             print(rs.keys())\n",
    "    #             coeffs[label] = np.array(rs['coeffs'])\n",
    "    #             Wouts[label]  = rs['W_out'][:-1].reshape((coeffs[label].shape[0], -1))\n",
    "    #             print(Wouts[label].shape, coeffs[label].shape)\n",
    "    #     else:\n",
    "    #         print('Not found saved model {}'.format(fname))"
   ]
  },
  {
   "cell_type": "code",
   "execution_count": 12,
   "metadata": {},
   "outputs": [
    {
     "name": "stdout",
     "output_type": "stream",
     "text": [
      "[['GRU-80-(1)', 1.2518141803772236], ['GRU-80-(2)', 1.3374489502864877], ['GRU-80-(3)', 1.4517902070546562], ['GRU-120-(1)', 1.521963977644555], ['GRU-120-(2)', 1.7518134425522949], ['GRU-120-(3)', 1.3332959537400826], ['GRU-250-(1)', 1.502475857437001], ['GRU-250-(2)', 1.2604286994907787], ['GRU-250-(3)', 1.4144465052215447], ['GRU-500-(1)', 1.123836246670689], ['GRU-500-(2)', 1.0800059847354848], ['GRU-500-(3)', 1.0799142959096673], ['GRU-1000-(1)', 1.4360312915261375], ['GRU-1000-(2)', 1.435279412291051], ['GRU-1000-(3)', 1.6224434751344832], ['GRU-2000-(1)', 1.2188414706001025], ['GRU-2000-(2)', 1.2570944052063695], ['GRU-2000-(3)', 1.3748800274277608]]\n",
      "Test Average error =  1.358544687961465\n"
     ]
    }
   ],
   "source": [
    "model_test_error = []\n",
    "test_avg_error = []\n",
    "for label in samples:\n",
    "    model_test_error.append([label,np.mean(rmse_dict[label])])\n",
    "    test_avg_error.append(np.mean(rmse_dict[label]))\n",
    "print(model_test_error)\n",
    "print(\"Test Average error = \",np.mean(test_avg_error))\n"
   ]
  },
  {
   "cell_type": "code",
   "execution_count": 13,
   "metadata": {},
   "outputs": [
    {
     "name": "stdout",
     "output_type": "stream",
     "text": [
      "{'GRU-80-(1)': 1.1308661484806573, 'GRU-80-(2)': 1.0553558737013635, 'GRU-80-(3)': 1.1187798424153286, 'GRU-120-(1)': 1.1383827980663197, 'GRU-120-(2)': 1.2301409008030952, 'GRU-120-(3)': 1.1837960692929093, 'GRU-250-(1)': 1.2485249052191367, 'GRU-250-(2)': 1.0297682935108483, 'GRU-250-(3)': 1.1442720416338792, 'GRU-500-(1)': 1.1914072438257466, 'GRU-500-(2)': 1.169359890276861, 'GRU-500-(3)': 1.21899482423078, 'GRU-1000-(1)': 1.0820753830826781, 'GRU-1000-(2)': 1.0615887912188895, 'GRU-1000-(3)': 1.1830373783687658, 'GRU-2000-(1)': 1.0577876736113436, 'GRU-2000-(2)': 1.1137049589159553, 'GRU-2000-(3)': 1.0457178494947885}\n",
      "{'GRU-80-(1)': 1.113429916230089, 'GRU-80-(2)': 1.190891151010446, 'GRU-80-(3)': 1.245566244586139, 'GRU-120-(1)': 1.3050297178053445, 'GRU-120-(2)': 1.4699487030270206, 'GRU-120-(3)': 1.2234758625723634, 'GRU-250-(1)': 1.3846936193523007, 'GRU-250-(2)': 1.1156727686897587, 'GRU-250-(3)': 1.2312905101065743, 'GRU-500-(1)': 1.020738938638129, 'GRU-500-(2)': 0.963861305140508, 'GRU-500-(3)': 0.9993901023091416, 'GRU-1000-(1)': 1.2026915884511906, 'GRU-1000-(2)': 1.2097826865017303, 'GRU-1000-(3)': 1.3171424981754454, 'GRU-2000-(1)': 1.115135470571468, 'GRU-2000-(2)': 1.155631281193833, 'GRU-2000-(3)': 1.1923529259963674}\n",
      "Train average error for GRU = 1.1335311592305193\n",
      "Test average error for GRU = 1.1920402939087693\n"
     ]
    }
   ],
   "source": [
    "print(rmnse_avg_train_dict)\n",
    "print(rmnse_avg_test_dict)\n",
    "error_array_test = []\n",
    "error_array_train = []\n",
    "for label in samples:\n",
    "    error_array_train.append(rmnse_avg_train_dict[label])\n",
    "    error_array_test.append(rmnse_avg_test_dict[label])\n",
    "print(\"Train average error for GRU =\", np.mean(error_array_train))\n",
    "print(\"Test average error for GRU =\", np.mean(error_array_test))"
   ]
  },
  {
   "cell_type": "code",
   "execution_count": 14,
   "metadata": {},
   "outputs": [],
   "source": [
    "models = []\n",
    "samples = []\n",
    "size_values = [80,120,250,500,1000,2000]\n",
    "layer_values = [1,2,3]\n",
    "for size in size_values:\n",
    "    for layers in layer_values:\n",
    "        string1 = f\"RNN-gru-RDIM_5-N_used_427-NLAY_{layers}-SLAY_{size}-ISH_statefull-SL_16-PL_16-LR_0.001-DKP_1.0-ZKP_1.0-HSPL_70-IPL_300-NL_0-NICS_3\"\n",
    "        string2 = f\"GRU-{size}-({layers})\"\n",
    "        models.append([os.path.join(model_path,string1),string2])\n",
    "        samples.append(string2)\n",
    "title = \"Sea Surface Temperatures\""
   ]
  },
  {
   "cell_type": "code",
   "execution_count": 15,
   "metadata": {},
   "outputs": [],
   "source": [
    "train_time_dict = dict()\n",
    "memory_dict = dict()\n",
    "trainable_parameters_dict = dict()\n",
    "for i in range(len(models)):\n",
    "    rfolder, label = models[i][0], models[i][1]\n",
    "    fname = os.path.join(rfolder, 'data.pickle')\n",
    "    if os.path.isfile(fname):\n",
    "        with open(fname, 'rb') as rfile:\n",
    "            try:\n",
    "                rs = pickle.load(rfile)\n",
    "            except:\n",
    "                continue\n",
    "            #print(rs.keys())\n",
    "            train_time_dict[label]=rs[\"total_training_time\"]\n",
    "            trainable_parameters_dict[label]=rs[\"n_trainable_parameters\"]\n",
    "            memory_dict[label]=rs[\"memory\"]\n",
    "    else:\n",
    "        print('Not found {}'.format(fname))"
   ]
  },
  {
   "cell_type": "code",
   "execution_count": 16,
   "metadata": {},
   "outputs": [
    {
     "data": {
      "text/plain": [
       "{'GRU-80-(1)': 1.5055692195892334,\n",
       " 'GRU-80-(2)': 2.1024346351623535,\n",
       " 'GRU-80-(3)': 3.0245089530944824,\n",
       " 'GRU-120-(1)': 2.5037057399749756,\n",
       " 'GRU-120-(2)': 3.9901349544525146,\n",
       " 'GRU-120-(3)': 6.4084131717681885,\n",
       " 'GRU-250-(1)': 1.5488948822021484,\n",
       " 'GRU-250-(2)': 2.3246452808380127,\n",
       " 'GRU-250-(3)': 3.1490418910980225,\n",
       " 'GRU-500-(1)': 1.5599327087402344,\n",
       " 'GRU-500-(2)': 2.845921039581299,\n",
       " 'GRU-500-(3)': 4.146128177642822,\n",
       " 'GRU-1000-(1)': 1.8387813568115234,\n",
       " 'GRU-1000-(2)': 4.367665529251099,\n",
       " 'GRU-1000-(3)': 7.139265775680542,\n",
       " 'GRU-2000-(1)': 3.526146411895752,\n",
       " 'GRU-2000-(2)': 8.62413239479065,\n",
       " 'GRU-2000-(3)': 14.147461652755737}"
      ]
     },
     "execution_count": 16,
     "metadata": {},
     "output_type": "execute_result"
    }
   ],
   "source": [
    "train_time_dict"
   ]
  },
  {
   "cell_type": "code",
   "execution_count": 17,
   "metadata": {},
   "outputs": [
    {
     "data": {
      "text/plain": [
       "{'GRU-80-(1)': 331.375,\n",
       " 'GRU-80-(2)': 347.16796875,\n",
       " 'GRU-80-(3)': 359.87109375,\n",
       " 'GRU-120-(1)': 332.671875,\n",
       " 'GRU-120-(2)': 350.7109375,\n",
       " 'GRU-120-(3)': 367.1484375,\n",
       " 'GRU-250-(1)': 337.44921875,\n",
       " 'GRU-250-(2)': 364.1875,\n",
       " 'GRU-250-(3)': 391.46484375,\n",
       " 'GRU-500-(1)': 356.0234375,\n",
       " 'GRU-500-(2)': 422.44921875,\n",
       " 'GRU-500-(3)': 481.01953125,\n",
       " 'GRU-1000-(1)': 428.98046875,\n",
       " 'GRU-1000-(2)': 624.84375,\n",
       " 'GRU-1000-(3)': 822.03125,\n",
       " 'GRU-2000-(1)': 701.5625,\n",
       " 'GRU-2000-(2)': 1447.6484375,\n",
       " 'GRU-2000-(3)': 2224.44140625}"
      ]
     },
     "execution_count": 17,
     "metadata": {},
     "output_type": "execute_result"
    }
   ],
   "source": [
    "memory_dict"
   ]
  },
  {
   "cell_type": "code",
   "execution_count": 18,
   "metadata": {},
   "outputs": [
    {
     "data": {
      "text/plain": [
       "{'GRU-80-(1)': 21045,\n",
       " 'GRU-80-(2)': 59685,\n",
       " 'GRU-80-(3)': 98325,\n",
       " 'GRU-120-(1)': 45965,\n",
       " 'GRU-120-(2)': 132725,\n",
       " 'GRU-120-(3)': 219485,\n",
       " 'GRU-250-(1)': 193255,\n",
       " 'GRU-250-(2)': 569005,\n",
       " 'GRU-250-(3)': 944755,\n",
       " 'GRU-500-(1)': 761505,\n",
       " 'GRU-500-(2)': 2263005,\n",
       " 'GRU-500-(3)': 3764505,\n",
       " 'GRU-1000-(1)': 3023005,\n",
       " 'GRU-1000-(2)': 9026005,\n",
       " 'GRU-1000-(3)': 15029005,\n",
       " 'GRU-2000-(1)': 12046005,\n",
       " 'GRU-2000-(2)': 36052005,\n",
       " 'GRU-2000-(3)': 60058005}"
      ]
     },
     "execution_count": 18,
     "metadata": {},
     "output_type": "execute_result"
    }
   ],
   "source": [
    "trainable_parameters_dict"
   ]
  }
 ],
 "metadata": {
  "kernelspec": {
   "display_name": "base",
   "language": "python",
   "name": "python3"
  },
  "language_info": {
   "codemirror_mode": {
    "name": "ipython",
    "version": 3
   },
   "file_extension": ".py",
   "mimetype": "text/x-python",
   "name": "python",
   "nbconvert_exporter": "python",
   "pygments_lexer": "ipython3",
   "version": "3.7.9"
  }
 },
 "nbformat": 4,
 "nbformat_minor": 4
}
