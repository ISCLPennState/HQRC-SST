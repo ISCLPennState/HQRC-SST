{
 "cells": [
  {
   "cell_type": "code",
   "execution_count": 2,
   "metadata": {},
   "outputs": [],
   "source": [
    "#!/usr/bin/env python\n",
    "# # -*- coding: utf-8 -*-\n",
    "#!/usr/bin/env python\n",
    "#!pip install tensorflow==1.15\n",
    "\n",
    "import numpy as np\n",
    "import matplotlib.pyplot as plt\n",
    "import pickle\n",
    "import glob, os, inspect\n",
    "import argparse\n",
    "import time\n",
    "import seaborn as sns\n",
    "# import matplotlib\n",
    "# matplotlib.use(\"Qt5Agg\")\n",
    "# #matplotlib.use('Agg')\n",
    "# from mpl_toolkits.mplot3d import axes3d\n",
    "# import matplotlib.pyplot as plt\n",
    "import pandas as pd\n",
    "import sys,inspect\n",
    "sys.path.append(\"C:\\\\Users\\\\Vinamr J\\\\Documents\\\\qic\\\\qrc\\\\hqr\\\\hqr-master\\\\chaos\\\\Postprocess\")\n",
    "sys.path.append(\"C:\\\\Users\\\\Vinamr J\\\\Documents\\\\qic\\\\qrc\\\\hqr\\\\hqr-master\\\\chaos\\\\Methods\\\\Models\\\\Utils\")\n",
    "\n",
    "import utils  # for utils.py\n",
    "from utils import *\n",
    "import global_utils  # for global_utils.py\n",
    "\n",
    "# import utils\n",
    "# from utils import *\n",
    "# import sys\n",
    "# sys.path.append('../Methods/Models/Utils')\n",
    "# import global_utils"
   ]
  },
  {
   "cell_type": "code",
   "execution_count": 3,
   "metadata": {},
   "outputs": [
    {
     "name": "stdout",
     "output_type": "stream",
     "text": [
      "Current Directory: c:\\Users\\Vinamr J\\Documents\\qic\\qrc\\hqr\\hqr-master\\chaos\\Data\\SST\n",
      "Parent Directory: c:\\Users\\Vinamr J\\Documents\\qic\\qrc\\hqr\\hqr-master\\chaos\n",
      "c:\\Users\\Vinamr J\\Documents\\qic\\qrc\\hqr\\hqr-master\\chaos\\Results\n",
      "c:\\Users\\Vinamr J\\Documents\\qic\\qrc\\hqr\\hqr-master\\chaos\\Results\\SST\\Evaluation_Data\n",
      "c:\\Users\\Vinamr J\\Documents\\qic\\qrc\\hqr\\hqr-master\\chaos\\Results\\SST\\Trained_Models\n",
      "c:\\Users\\Vinamr J\\Documents\\qic\\qrc\\hqr\\hqr-master\\chaos\\Results\\SST\\Eval_Figures\n"
     ]
    }
   ],
   "source": [
    "sysname, tidx = \"SST\", 2\n",
    "file_path = os.path.abspath(\"GRU_analysis.ipynb\")\n",
    "current_directory = os.path.dirname(file_path)\n",
    "mid_directory = os.path.dirname(current_directory)\n",
    "parent_directory = os.path.dirname(mid_directory)\n",
    "\n",
    "print(\"Current Directory:\", current_directory)\n",
    "print(\"Parent Directory:\", parent_directory)\n",
    "\n",
    "#current_dir = os.path.dirname(os.path.abspath(inspect.getfile(inspect.currentframe())))\n",
    "results_dir = os.path.join(os.path.dirname(mid_directory), \"Results\")  # Use os.path.join for path concatenation\n",
    "print(results_dir)\n",
    "\n",
    "eval_path = os.path.join(results_dir, sysname, 'Evaluation_Data')\n",
    "print(eval_path)\n",
    "\n",
    "model_path = os.path.join(results_dir, sysname, 'Trained_Models')\n",
    "print(model_path)\n",
    "\n",
    "fig_path = os.path.join(results_dir, sysname, 'Eval_Figures')\n",
    "if not os.path.isdir(fig_path):\n",
    "    os.makedirs(fig_path)  # Use os.makedirs to create parent directories if needed\n",
    "print(fig_path)"
   ]
  },
  {
   "cell_type": "code",
   "execution_count": 5,
   "metadata": {},
   "outputs": [],
   "source": [
    "models = []\n",
    "samples = []\n",
    "V_values = [5,10,15,20]\n",
    "alpha_values = [0.0,0.5,0.9]\n",
    "for V in V_values:\n",
    "    for alpha in alpha_values:\n",
    "        string1 = f\"hqrc_pinv-RDIM_5-N_used_427-DL_40-Nqr_5-A_{alpha}-J_2.0-fJ_1-V_{V}-NL_0-IPL_300-IUL_0-REG_1e-07-AU_0-NICS_3\"\n",
    "        string2 = f\"HQRC-V={V}-alpha={alpha}\"\n",
    "        models.append([os.path.join(eval_path,string1),string2])\n",
    "        samples.append(string2)\n",
    "title = \"Sea Surface Temperatures\""
   ]
  },
  {
   "cell_type": "code",
   "execution_count": 3,
   "metadata": {},
   "outputs": [],
   "source": [
    "# models = [[os.path.join(eval_path, \"hqrc_pinv-RDIM_5-N_used_427-DL_40-Nqr_5-A_0.9-J_2.0-fJ_1-V_10-NL_0-IPL_20-IUL_0-REG_1e-07-AU_0-NICS_3\"),\"HQR-5,V-10,DL=40,IPL=20,n_tests=3\"],\n",
    "#           [os.path.join(eval_path, \"hqrc_pinv-RDIM_5-N_used_427-DL_8-Nqr_5-A_0.9-J_2.0-fJ_1-V_10-NL_0-IPL_8-IUL_0-REG_1e-07-AU_0-NICS_1\"),\"HQR-5,V-10,DL=8,IPL=8,n_tests=1\"],\n",
    "#           [os.path.join(eval_path, \"hqrc_pinv-RDIM_5-N_used_427-DL_40-Nqr_5-A_0.9-J_2.0-fJ_1-V_10-NL_0-IPL_300-IUL_0-REG_1e-07-AU_0-NICS_1\"),\"HQR-5,V-10,DL=40,IPL=300,n_tests=1\"]]\n",
    "# samples = [\"HQR-5,V-10,DL=40,IPL=20,n_tests=3\",\"HQR-5,V-10,DL=8,IPL=8,n_tests=1\",\"HQR-5,V-10,DL=40,IPL=300,n_tests=1\"]\n",
    "# title = \"Sea Surface Temperatures\""
   ]
  },
  {
   "cell_type": "code",
   "execution_count": 7,
   "metadata": {},
   "outputs": [
    {
     "name": "stdout",
     "output_type": "stream",
     "text": [
      "(3, 300, 5)\n",
      "hqrc_pinv-RDIM_5-N_used_427-DL_40-Nqr_5-A_0.0-J_2.0-fJ_1-V_5-NL_0-IPL_300-IUL_0-REG_1e-07-AU_0-NICS_3 Number of test 3\n",
      "(300,)\n",
      "(3, 300, 5)\n",
      "hqrc_pinv-RDIM_5-N_used_427-DL_40-Nqr_5-A_0.5-J_2.0-fJ_1-V_5-NL_0-IPL_300-IUL_0-REG_1e-07-AU_0-NICS_3 Number of test 3\n",
      "(300,)\n",
      "(3, 300, 5)\n",
      "hqrc_pinv-RDIM_5-N_used_427-DL_40-Nqr_5-A_0.9-J_2.0-fJ_1-V_5-NL_0-IPL_300-IUL_0-REG_1e-07-AU_0-NICS_3 Number of test 3\n",
      "(300,)\n",
      "(3, 300, 5)\n",
      "hqrc_pinv-RDIM_5-N_used_427-DL_40-Nqr_5-A_0.0-J_2.0-fJ_1-V_10-NL_0-IPL_300-IUL_0-REG_1e-07-AU_0-NICS_3 Number of test 3\n",
      "(300,)\n",
      "(3, 300, 5)\n",
      "hqrc_pinv-RDIM_5-N_used_427-DL_40-Nqr_5-A_0.5-J_2.0-fJ_1-V_10-NL_0-IPL_300-IUL_0-REG_1e-07-AU_0-NICS_3 Number of test 3\n",
      "(300,)\n",
      "(3, 300, 5)\n",
      "hqrc_pinv-RDIM_5-N_used_427-DL_40-Nqr_5-A_0.9-J_2.0-fJ_1-V_10-NL_0-IPL_300-IUL_0-REG_1e-07-AU_0-NICS_3 Number of test 3\n",
      "(300,)\n",
      "(3, 300, 5)\n",
      "hqrc_pinv-RDIM_5-N_used_427-DL_40-Nqr_5-A_0.0-J_2.0-fJ_1-V_15-NL_0-IPL_300-IUL_0-REG_1e-07-AU_0-NICS_3 Number of test 3\n",
      "(300,)\n",
      "(3, 300, 5)\n",
      "hqrc_pinv-RDIM_5-N_used_427-DL_40-Nqr_5-A_0.5-J_2.0-fJ_1-V_15-NL_0-IPL_300-IUL_0-REG_1e-07-AU_0-NICS_3 Number of test 3\n",
      "(300,)\n",
      "(3, 300, 5)\n",
      "hqrc_pinv-RDIM_5-N_used_427-DL_40-Nqr_5-A_0.9-J_2.0-fJ_1-V_15-NL_0-IPL_300-IUL_0-REG_1e-07-AU_0-NICS_3 Number of test 3\n",
      "(300,)\n",
      "(3, 300, 5)\n",
      "hqrc_pinv-RDIM_5-N_used_427-DL_40-Nqr_5-A_0.0-J_2.0-fJ_1-V_20-NL_0-IPL_300-IUL_0-REG_1e-07-AU_0-NICS_3 Number of test 3\n",
      "(300,)\n",
      "(3, 300, 5)\n",
      "hqrc_pinv-RDIM_5-N_used_427-DL_40-Nqr_5-A_0.5-J_2.0-fJ_1-V_20-NL_0-IPL_300-IUL_0-REG_1e-07-AU_0-NICS_3 Number of test 3\n",
      "(300,)\n",
      "(3, 300, 5)\n",
      "hqrc_pinv-RDIM_5-N_used_427-DL_40-Nqr_5-A_0.9-J_2.0-fJ_1-V_20-NL_0-IPL_300-IUL_0-REG_1e-07-AU_0-NICS_3 Number of test 3\n",
      "(300,)\n"
     ]
    },
    {
     "name": "stderr",
     "output_type": "stream",
     "text": [
      "C:\\Users\\Vinamr J\\Documents\\qic\\qrc\\hqr\\hqr-master\\chaos\\Postprocess\\utils.py:73: RuntimeWarning: overflow encountered in square\n",
      "  diff2 = np.square(diff)\n"
     ]
    }
   ],
   "source": [
    "rmse_dict = dict()\n",
    "targets = dict()\n",
    "outputs = dict()\n",
    "sp_outputs = dict()\n",
    "sp_targets = dict()\n",
    "Wouts = dict()\n",
    "coeffs = dict()\n",
    "rmnse_avg_train_dict = dict()\n",
    "rmnse_avg_test_dict = dict()\n",
    "for i in range(len(models)):\n",
    "    rfolder, label = models[i][0], models[i][1]\n",
    "    fname = os.path.join(rfolder, 'results.pickle')\n",
    "    if os.path.isfile(fname):\n",
    "        with open(fname, 'rb') as rfile:\n",
    "            try:\n",
    "                rs = pickle.load(rfile)\n",
    "            except:\n",
    "                continue\n",
    "            #print(rs.keys())\n",
    "            qs = QResults()\n",
    "            qs.rmnse_avg_test = rs['rmnse_avg_TEST']\n",
    "            qs.rmnse_avg_train = rs['rmnse_avg_TRAIN']\n",
    "            qs.n_pred_005_avg_test = rs['num_accurate_pred_005_avg_TEST']\n",
    "            qs.n_pred_005_avg_train = rs['num_accurate_pred_005_avg_TRAIN']\n",
    "            qs.n_pred_050_avg_test = rs['num_accurate_pred_050_avg_TEST']\n",
    "            qs.n_pred_050_avg_train = rs['num_accurate_pred_050_avg_TRAIN']\n",
    "            qs.model_name = rs['model_name']\n",
    "            #if qs.rmnse_avg_test != np.inf and qs.rmnse_avg_train != np.inf:\n",
    "                #print(rs.keys())\n",
    "            #print(qs.model_name)\n",
    "            #print('train={}, test={}'.format(qs.rmnse_avg_train, qs.rmnse_avg_test))\n",
    "            #qs.info()\n",
    "            rmnse_avg_train_dict[label] = rs['rmnse_avg_TRAIN']\n",
    "            rmnse_avg_test_dict[label] = rs['rmnse_avg_TEST']\n",
    "            pred_test = rs['predictions_all_TEST']\n",
    "            truth_test = rs['truths_all_TEST']\n",
    "            print(pred_test.shape)\n",
    "            M = len(pred_test)\n",
    "            print('{} Number of test'.format(qs.model_name), M)\n",
    "            rmsels = []\n",
    "            for j in range(M):\n",
    "                    rmsels.append(calNRMSE(pred_test[j], truth_test[j]))\n",
    "\n",
    "            rmse_dict[label] = np.mean(np.array(rmsels), axis=0)\n",
    "            print(rmse_dict[label].shape)\n",
    "\n",
    "\n",
    "            targets[label] = truth_test[0]\n",
    "            outputs[label] = pred_test[0]\n",
    "\n",
    "            # For frequency\n",
    "            sp_outputs[label] = rs['sp_pred_TEST']\n",
    "            sp_targets[label] = rs['sp_true_TEST']\n",
    "    else:\n",
    "        print('Not found {}'.format(fname))\n",
    "    # if trained_models is not None:\n",
    "    #     rfolder, label = trained_models[i][0], trained_models[i][1]\n",
    "    #     fname = os.path.join(rfolder, 'data.pickle')\n",
    "    #     if os.path.isfile(fname):\n",
    "    #         print('File existed: ', fname)\n",
    "    #         with open(fname, 'rb') as rfile:\n",
    "    #             #try:\n",
    "    #             rs = pickle.load(rfile)\n",
    "    #             #except:\n",
    "    #             #    continue\n",
    "    #             print(rs.keys())\n",
    "    #             coeffs[label] = np.array(rs['coeffs'])\n",
    "    #             Wouts[label]  = rs['W_out'][:-1].reshape((coeffs[label].shape[0], -1))\n",
    "    #             print(Wouts[label].shape, coeffs[label].shape)\n",
    "    #     else:\n",
    "    #         print('Not found saved model {}'.format(fname))"
   ]
  },
  {
   "cell_type": "code",
   "execution_count": 8,
   "metadata": {},
   "outputs": [
    {
     "name": "stdout",
     "output_type": "stream",
     "text": [
      "[['HQRC-V=5-alpha=0.0', inf], ['HQRC-V=5-alpha=0.5', inf], ['HQRC-V=5-alpha=0.9', inf], ['HQRC-V=10-alpha=0.0', inf], ['HQRC-V=10-alpha=0.5', inf], ['HQRC-V=10-alpha=0.9', inf], ['HQRC-V=15-alpha=0.0', inf], ['HQRC-V=15-alpha=0.5', inf], ['HQRC-V=15-alpha=0.9', inf], ['HQRC-V=20-alpha=0.0', inf], ['HQRC-V=20-alpha=0.5', inf], ['HQRC-V=20-alpha=0.9', inf]]\n",
      "Test Average error =  inf\n"
     ]
    }
   ],
   "source": [
    "model_test_error = []\n",
    "test_avg_error = []\n",
    "for label in samples:\n",
    "    model_test_error.append([label,np.mean(rmse_dict[label])])\n",
    "    test_avg_error.append(np.mean(rmse_dict[label]))\n",
    "print(model_test_error)\n",
    "print(\"Test Average error = \",np.mean(test_avg_error))"
   ]
  },
  {
   "cell_type": "code",
   "execution_count": 10,
   "metadata": {},
   "outputs": [
    {
     "name": "stdout",
     "output_type": "stream",
     "text": [
      "{'HQRC-V=5-alpha=0.0': inf, 'HQRC-V=5-alpha=0.5': 0.3081579994254596, 'HQRC-V=5-alpha=0.9': 0.4124705267985448, 'HQRC-V=10-alpha=0.0': inf, 'HQRC-V=10-alpha=0.5': 0.16023250229528269, 'HQRC-V=10-alpha=0.9': inf, 'HQRC-V=15-alpha=0.0': inf, 'HQRC-V=15-alpha=0.5': inf, 'HQRC-V=15-alpha=0.9': 0.45666814371799075, 'HQRC-V=20-alpha=0.0': inf, 'HQRC-V=20-alpha=0.5': inf, 'HQRC-V=20-alpha=0.9': 0.37556120066692283}\n",
      "{'HQRC-V=5-alpha=0.0': inf, 'HQRC-V=5-alpha=0.5': inf, 'HQRC-V=5-alpha=0.9': inf, 'HQRC-V=10-alpha=0.0': inf, 'HQRC-V=10-alpha=0.5': inf, 'HQRC-V=10-alpha=0.9': inf, 'HQRC-V=15-alpha=0.0': inf, 'HQRC-V=15-alpha=0.5': inf, 'HQRC-V=15-alpha=0.9': inf, 'HQRC-V=20-alpha=0.0': inf, 'HQRC-V=20-alpha=0.5': inf, 'HQRC-V=20-alpha=0.9': inf}\n",
      "Train average error for HQRC = inf\n",
      "Test average error for HQRC = inf\n"
     ]
    }
   ],
   "source": [
    "print(rmnse_avg_train_dict)\n",
    "print(rmnse_avg_test_dict)\n",
    "error_array_test = []\n",
    "error_array_train = []\n",
    "for label in samples:\n",
    "    error_array_train.append(rmnse_avg_train_dict[label])\n",
    "    error_array_test.append(rmnse_avg_test_dict[label])\n",
    "print(\"Train average error for HQRC =\", np.mean(error_array_train))\n",
    "print(\"Test average error for HQRC =\", np.mean(error_array_test))"
   ]
  },
  {
   "cell_type": "code",
   "execution_count": 11,
   "metadata": {},
   "outputs": [],
   "source": [
    "models = []\n",
    "samples = []\n",
    "V_values = [5,10,15,20]\n",
    "alpha_values = [0.0,0.5,0.9]\n",
    "for V in V_values:\n",
    "    for alpha in alpha_values:\n",
    "        string1 = f\"hqrc_pinv-RDIM_5-N_used_427-DL_40-Nqr_5-A_{alpha}-J_2.0-fJ_1-V_{V}-NL_0-IPL_300-IUL_0-REG_1e-07-AU_0-NICS_3\"\n",
    "        string2 = f\"HQRC-V={V}-alpha={alpha}\"\n",
    "        models.append([os.path.join(model_path,string1),string2])\n",
    "        samples.append(string2)\n",
    "title = \"Sea Surface Temperatures\""
   ]
  },
  {
   "cell_type": "code",
   "execution_count": 12,
   "metadata": {},
   "outputs": [],
   "source": [
    "train_time_dict = dict()\n",
    "memory_dict = dict()\n",
    "trainable_parameters_dict = dict()\n",
    "for i in range(len(models)):\n",
    "    rfolder, label = models[i][0], models[i][1]\n",
    "    fname = os.path.join(rfolder, 'data.pickle')\n",
    "    if os.path.isfile(fname):\n",
    "        with open(fname, 'rb') as rfile:\n",
    "            try:\n",
    "                rs = pickle.load(rfile)\n",
    "            except:\n",
    "                continue\n",
    "            #print(rs.keys())\n",
    "            train_time_dict[label]=rs[\"total_training_time\"]\n",
    "            trainable_parameters_dict[label]=rs[\"n_trainable_parameters\"]\n",
    "            memory_dict[label]=rs[\"memory\"]\n",
    "    else:\n",
    "        print('Not found {}'.format(fname))"
   ]
  },
  {
   "cell_type": "code",
   "execution_count": 13,
   "metadata": {},
   "outputs": [
    {
     "data": {
      "text/plain": [
       "{'HQRC-V=5-alpha=0.0': 6.418042182922363,\n",
       " 'HQRC-V=5-alpha=0.5': 6.617361783981323,\n",
       " 'HQRC-V=5-alpha=0.9': 8.417607307434082,\n",
       " 'HQRC-V=10-alpha=0.0': 15.486985921859741,\n",
       " 'HQRC-V=10-alpha=0.5': 15.717888832092285,\n",
       " 'HQRC-V=10-alpha=0.9': 15.289921045303345,\n",
       " 'HQRC-V=15-alpha=0.0': 24.318379402160645,\n",
       " 'HQRC-V=15-alpha=0.5': 24.49633502960205,\n",
       " 'HQRC-V=15-alpha=0.9': 24.94126844406128,\n",
       " 'HQRC-V=20-alpha=0.0': 35.273587226867676,\n",
       " 'HQRC-V=20-alpha=0.5': 31.323994636535645,\n",
       " 'HQRC-V=20-alpha=0.9': 32.06458377838135}"
      ]
     },
     "execution_count": 13,
     "metadata": {},
     "output_type": "execute_result"
    }
   ],
   "source": [
    "train_time_dict"
   ]
  },
  {
   "cell_type": "code",
   "execution_count": 14,
   "metadata": {},
   "outputs": [
    {
     "data": {
      "text/plain": [
       "{'HQRC-V=5-alpha=0.0': 102.58984375,\n",
       " 'HQRC-V=5-alpha=0.5': 102.36328125,\n",
       " 'HQRC-V=5-alpha=0.9': 102.2265625,\n",
       " 'HQRC-V=10-alpha=0.0': 104.94921875,\n",
       " 'HQRC-V=10-alpha=0.5': 104.72265625,\n",
       " 'HQRC-V=10-alpha=0.9': 105.3125,\n",
       " 'HQRC-V=15-alpha=0.0': 108.953125,\n",
       " 'HQRC-V=15-alpha=0.5': 109.11328125,\n",
       " 'HQRC-V=15-alpha=0.9': 109.1953125,\n",
       " 'HQRC-V=20-alpha=0.0': 114.30078125,\n",
       " 'HQRC-V=20-alpha=0.5': 114.265625,\n",
       " 'HQRC-V=20-alpha=0.9': 112.6640625}"
      ]
     },
     "execution_count": 14,
     "metadata": {},
     "output_type": "execute_result"
    }
   ],
   "source": [
    "memory_dict"
   ]
  },
  {
   "cell_type": "code",
   "execution_count": 15,
   "metadata": {},
   "outputs": [
    {
     "data": {
      "text/plain": [
       "{'HQRC-V=5-alpha=0.0': 755,\n",
       " 'HQRC-V=5-alpha=0.5': 755,\n",
       " 'HQRC-V=5-alpha=0.9': 755,\n",
       " 'HQRC-V=10-alpha=0.0': 1505,\n",
       " 'HQRC-V=10-alpha=0.5': 1505,\n",
       " 'HQRC-V=10-alpha=0.9': 1505,\n",
       " 'HQRC-V=15-alpha=0.0': 2255,\n",
       " 'HQRC-V=15-alpha=0.5': 2255,\n",
       " 'HQRC-V=15-alpha=0.9': 2255,\n",
       " 'HQRC-V=20-alpha=0.0': 3005,\n",
       " 'HQRC-V=20-alpha=0.5': 3005,\n",
       " 'HQRC-V=20-alpha=0.9': 3005}"
      ]
     },
     "execution_count": 15,
     "metadata": {},
     "output_type": "execute_result"
    }
   ],
   "source": [
    "trainable_parameters_dict"
   ]
  }
 ],
 "metadata": {
  "kernelspec": {
   "display_name": "base",
   "language": "python",
   "name": "python3"
  },
  "language_info": {
   "codemirror_mode": {
    "name": "ipython",
    "version": 3
   },
   "file_extension": ".py",
   "mimetype": "text/x-python",
   "name": "python",
   "nbconvert_exporter": "python",
   "pygments_lexer": "ipython3",
   "version": "3.7.9"
  }
 },
 "nbformat": 4,
 "nbformat_minor": 4
}
