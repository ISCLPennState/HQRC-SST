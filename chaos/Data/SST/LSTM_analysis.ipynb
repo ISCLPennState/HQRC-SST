{
 "cells": [
  {
   "cell_type": "code",
   "execution_count": 1,
   "metadata": {},
   "outputs": [],
   "source": [
    "#!/usr/bin/env python\n",
    "# # -*- coding: utf-8 -*-\n",
    "#!/usr/bin/env python\n",
    "#!pip install tensorflow==1.15\n",
    "\n",
    "import numpy as np\n",
    "import matplotlib.pyplot as plt\n",
    "import pickle\n",
    "import glob, os, inspect\n",
    "import argparse\n",
    "import time\n",
    "import seaborn as sns\n",
    "# import matplotlib\n",
    "# matplotlib.use(\"Qt5Agg\")\n",
    "# #matplotlib.use('Agg')\n",
    "# from mpl_toolkits.mplot3d import axes3d\n",
    "# import matplotlib.pyplot as plt\n",
    "import pandas as pd\n",
    "import sys,inspect\n",
    "sys.path.append(\"C:\\\\Users\\\\Vinamr J\\\\Documents\\\\qic\\\\qrc\\\\hqr\\\\hqr-master\\\\chaos\\\\Postprocess\")\n",
    "sys.path.append(\"C:\\\\Users\\\\Vinamr J\\\\Documents\\\\qic\\\\qrc\\\\hqr\\\\hqr-master\\\\chaos\\\\Methods\\\\Models\\\\Utils\")\n",
    "\n",
    "import utils  # for utils.py\n",
    "from utils import *\n",
    "import global_utils  # for global_utils.py\n",
    "\n",
    "# import utils\n",
    "# from utils import *\n",
    "# import sys\n",
    "# sys.path.append('../Methods/Models/Utils')\n",
    "# import global_utils"
   ]
  },
  {
   "cell_type": "code",
   "execution_count": 2,
   "metadata": {},
   "outputs": [
    {
     "name": "stdout",
     "output_type": "stream",
     "text": [
      "Current Directory: c:\\Users\\Vinamr J\\Documents\\qic\\qrc\\hqr\\hqr-master\\chaos\\Data\\SST\n",
      "Parent Directory: c:\\Users\\Vinamr J\\Documents\\qic\\qrc\\hqr\\hqr-master\\chaos\n",
      "c:\\Users\\Vinamr J\\Documents\\qic\\qrc\\hqr\\hqr-master\\chaos\\Results\n",
      "c:\\Users\\Vinamr J\\Documents\\qic\\qrc\\hqr\\hqr-master\\chaos\\Results\\SST\\Evaluation_Data\n",
      "c:\\Users\\Vinamr J\\Documents\\qic\\qrc\\hqr\\hqr-master\\chaos\\Results\\SST\\Trained_Models\n",
      "c:\\Users\\Vinamr J\\Documents\\qic\\qrc\\hqr\\hqr-master\\chaos\\Results\\SST\\Eval_Figures\n"
     ]
    }
   ],
   "source": [
    "sysname, tidx = \"SST\", 2\n",
    "file_path = os.path.abspath(\"GRU_analysis.ipynb\")\n",
    "current_directory = os.path.dirname(file_path)\n",
    "mid_directory = os.path.dirname(current_directory)\n",
    "parent_directory = os.path.dirname(mid_directory)\n",
    "\n",
    "print(\"Current Directory:\", current_directory)\n",
    "print(\"Parent Directory:\", parent_directory)\n",
    "\n",
    "#current_dir = os.path.dirname(os.path.abspath(inspect.getfile(inspect.currentframe())))\n",
    "results_dir = os.path.join(os.path.dirname(mid_directory), \"Results\")  # Use os.path.join for path concatenation\n",
    "print(results_dir)\n",
    "\n",
    "eval_path = os.path.join(results_dir, sysname, 'Evaluation_Data')\n",
    "print(eval_path)\n",
    "\n",
    "model_path = os.path.join(results_dir, sysname, 'Trained_Models')\n",
    "print(model_path)\n",
    "\n",
    "fig_path = os.path.join(results_dir, sysname, 'Eval_Figures')\n",
    "if not os.path.isdir(fig_path):\n",
    "    os.makedirs(fig_path)  # Use os.makedirs to create parent directories if needed\n",
    "print(fig_path)"
   ]
  },
  {
   "cell_type": "code",
   "execution_count": 4,
   "metadata": {},
   "outputs": [],
   "source": [
    "models = []\n",
    "samples = []\n",
    "size_values = [80,100,120,200,500,1000]\n",
    "layer_values = [1,2,3]\n",
    "for size in size_values:\n",
    "    for layers in layer_values:\n",
    "        string1 = f\"RNN-lstm-RDIM_5-N_used_427-NLAY_{layers}-SLAY_{size}-ISH_statefull-SL_16-PL_4-LR_0.001-DKP_1.0-ZKP_1.0-HSPL_70-IPL_300-NL_0-NICS_3\"\n",
    "        string2 = f\"LSTM-{size}-({layers})\"\n",
    "        models.append([os.path.join(eval_path,string1),string2])\n",
    "        samples.append(string2)\n",
    "title = \"Sea Surface Temperatures\""
   ]
  },
  {
   "cell_type": "code",
   "execution_count": 3,
   "metadata": {},
   "outputs": [],
   "source": [
    "# models = [[os.path.join(eval_path, \"hqrc_pinv-RDIM_5-N_used_427-DL_40-Nqr_5-A_0.9-J_2.0-fJ_1-V_10-NL_0-IPL_20-IUL_0-REG_1e-07-AU_0-NICS_3\"),\"HQR-5,V-10,DL=40,IPL=20,n_tests=3\"],\n",
    "#           [os.path.join(eval_path, \"hqrc_pinv-RDIM_5-N_used_427-DL_8-Nqr_5-A_0.9-J_2.0-fJ_1-V_10-NL_0-IPL_8-IUL_0-REG_1e-07-AU_0-NICS_1\"),\"HQR-5,V-10,DL=8,IPL=8,n_tests=1\"],\n",
    "#           [os.path.join(eval_path, \"hqrc_pinv-RDIM_5-N_used_427-DL_40-Nqr_5-A_0.9-J_2.0-fJ_1-V_10-NL_0-IPL_300-IUL_0-REG_1e-07-AU_0-NICS_1\"),\"HQR-5,V-10,DL=40,IPL=300,n_tests=1\"]]\n",
    "# samples = [\"HQR-5,V-10,DL=40,IPL=20,n_tests=3\",\"HQR-5,V-10,DL=8,IPL=8,n_tests=1\",\"HQR-5,V-10,DL=40,IPL=300,n_tests=1\"]\n",
    "# title = \"Sea Surface Temperatures\""
   ]
  },
  {
   "cell_type": "code",
   "execution_count": 6,
   "metadata": {},
   "outputs": [
    {
     "name": "stdout",
     "output_type": "stream",
     "text": [
      "(3, 300, 5)\n",
      "RNN-lstm-RDIM_5-N_used_427-NLAY_1-SLAY_80-ISH_statefull-SL_16-PL_4-LR_0.001-DKP_1.0-ZKP_1.0-HSPL_70-IPL_300-NL_0-NICS_3 Number of test 3\n",
      "(300,)\n",
      "(3, 300, 5)\n",
      "RNN-lstm-RDIM_5-N_used_427-NLAY_2-SLAY_80-ISH_statefull-SL_16-PL_4-LR_0.001-DKP_1.0-ZKP_1.0-HSPL_70-IPL_300-NL_0-NICS_3 Number of test 3\n",
      "(300,)\n",
      "(3, 300, 5)\n",
      "RNN-lstm-RDIM_5-N_used_427-NLAY_3-SLAY_80-ISH_statefull-SL_16-PL_4-LR_0.001-DKP_1.0-ZKP_1.0-HSPL_70-IPL_300-NL_0-NICS_3 Number of test 3\n",
      "(300,)\n",
      "(3, 300, 5)\n",
      "RNN-lstm-RDIM_5-N_used_427-NLAY_1-SLAY_100-ISH_statefull-SL_16-PL_4-LR_0.001-DKP_1.0-ZKP_1.0-HSPL_70-IPL_300-NL_0-NICS_3 Number of test 3\n",
      "(300,)\n",
      "(3, 300, 5)\n",
      "RNN-lstm-RDIM_5-N_used_427-NLAY_2-SLAY_100-ISH_statefull-SL_16-PL_4-LR_0.001-DKP_1.0-ZKP_1.0-HSPL_70-IPL_300-NL_0-NICS_3 Number of test 3\n",
      "(300,)\n",
      "(3, 300, 5)\n",
      "RNN-lstm-RDIM_5-N_used_427-NLAY_3-SLAY_100-ISH_statefull-SL_16-PL_4-LR_0.001-DKP_1.0-ZKP_1.0-HSPL_70-IPL_300-NL_0-NICS_3 Number of test 3\n",
      "(300,)\n",
      "(3, 300, 5)\n",
      "RNN-lstm-RDIM_5-N_used_427-NLAY_1-SLAY_120-ISH_statefull-SL_16-PL_4-LR_0.001-DKP_1.0-ZKP_1.0-HSPL_70-IPL_300-NL_0-NICS_3 Number of test 3\n",
      "(300,)\n",
      "(3, 300, 5)\n",
      "RNN-lstm-RDIM_5-N_used_427-NLAY_2-SLAY_120-ISH_statefull-SL_16-PL_4-LR_0.001-DKP_1.0-ZKP_1.0-HSPL_70-IPL_300-NL_0-NICS_3 Number of test 3\n",
      "(300,)\n",
      "(3, 300, 5)\n",
      "RNN-lstm-RDIM_5-N_used_427-NLAY_3-SLAY_120-ISH_statefull-SL_16-PL_4-LR_0.001-DKP_1.0-ZKP_1.0-HSPL_70-IPL_300-NL_0-NICS_3 Number of test 3\n",
      "(300,)\n",
      "(3, 300, 5)\n",
      "RNN-lstm-RDIM_5-N_used_427-NLAY_1-SLAY_200-ISH_statefull-SL_16-PL_4-LR_0.001-DKP_1.0-ZKP_1.0-HSPL_70-IPL_300-NL_0-NICS_3 Number of test 3\n",
      "(300,)\n",
      "(3, 300, 5)\n",
      "RNN-lstm-RDIM_5-N_used_427-NLAY_2-SLAY_200-ISH_statefull-SL_16-PL_4-LR_0.001-DKP_1.0-ZKP_1.0-HSPL_70-IPL_300-NL_0-NICS_3 Number of test 3\n",
      "(300,)\n",
      "(3, 300, 5)\n",
      "RNN-lstm-RDIM_5-N_used_427-NLAY_3-SLAY_200-ISH_statefull-SL_16-PL_4-LR_0.001-DKP_1.0-ZKP_1.0-HSPL_70-IPL_300-NL_0-NICS_3 Number of test 3\n",
      "(300,)\n",
      "(3, 300, 5)\n",
      "RNN-lstm-RDIM_5-N_used_427-NLAY_1-SLAY_500-ISH_statefull-SL_16-PL_4-LR_0.001-DKP_1.0-ZKP_1.0-HSPL_70-IPL_300-NL_0-NICS_3 Number of test 3\n",
      "(300,)\n",
      "(3, 300, 5)\n",
      "RNN-lstm-RDIM_5-N_used_427-NLAY_2-SLAY_500-ISH_statefull-SL_16-PL_4-LR_0.001-DKP_1.0-ZKP_1.0-HSPL_70-IPL_300-NL_0-NICS_3 Number of test 3\n",
      "(300,)\n",
      "(3, 300, 5)\n",
      "RNN-lstm-RDIM_5-N_used_427-NLAY_3-SLAY_500-ISH_statefull-SL_16-PL_4-LR_0.001-DKP_1.0-ZKP_1.0-HSPL_70-IPL_300-NL_0-NICS_3 Number of test 3\n",
      "(300,)\n",
      "(3, 300, 5)\n",
      "RNN-lstm-RDIM_5-N_used_427-NLAY_1-SLAY_1000-ISH_statefull-SL_16-PL_4-LR_0.001-DKP_1.0-ZKP_1.0-HSPL_70-IPL_300-NL_0-NICS_3 Number of test 3\n",
      "(300,)\n",
      "(3, 300, 5)\n",
      "RNN-lstm-RDIM_5-N_used_427-NLAY_2-SLAY_1000-ISH_statefull-SL_16-PL_4-LR_0.001-DKP_1.0-ZKP_1.0-HSPL_70-IPL_300-NL_0-NICS_3 Number of test 3\n",
      "(300,)\n",
      "(3, 300, 5)\n",
      "RNN-lstm-RDIM_5-N_used_427-NLAY_3-SLAY_1000-ISH_statefull-SL_16-PL_4-LR_0.001-DKP_1.0-ZKP_1.0-HSPL_70-IPL_300-NL_0-NICS_3 Number of test 3\n",
      "(300,)\n"
     ]
    }
   ],
   "source": [
    "rmse_dict = dict()\n",
    "targets = dict()\n",
    "outputs = dict()\n",
    "sp_outputs = dict()\n",
    "sp_targets = dict()\n",
    "Wouts = dict()\n",
    "coeffs = dict()\n",
    "rmnse_avg_train_dict = dict()\n",
    "rmnse_avg_test_dict = dict()\n",
    "for i in range(len(models)):\n",
    "    rfolder, label = models[i][0], models[i][1]\n",
    "    fname = os.path.join(rfolder, 'results.pickle')\n",
    "    if os.path.isfile(fname):\n",
    "        with open(fname, 'rb') as rfile:\n",
    "            try:\n",
    "                rs = pickle.load(rfile)\n",
    "            except:\n",
    "                continue\n",
    "            #print(rs.keys())\n",
    "            qs = QResults()\n",
    "            qs.rmnse_avg_test = rs['rmnse_avg_TEST']\n",
    "            qs.rmnse_avg_train = rs['rmnse_avg_TRAIN']\n",
    "            qs.n_pred_005_avg_test = rs['num_accurate_pred_005_avg_TEST']\n",
    "            qs.n_pred_005_avg_train = rs['num_accurate_pred_005_avg_TRAIN']\n",
    "            qs.n_pred_050_avg_test = rs['num_accurate_pred_050_avg_TEST']\n",
    "            qs.n_pred_050_avg_train = rs['num_accurate_pred_050_avg_TRAIN']\n",
    "            qs.model_name = rs['model_name']\n",
    "            #if qs.rmnse_avg_test != np.inf and qs.rmnse_avg_train != np.inf:\n",
    "                #print(rs.keys())\n",
    "            #print(qs.model_name)\n",
    "            #print('train={}, test={}'.format(qs.rmnse_avg_train, qs.rmnse_avg_test))\n",
    "            #qs.info()\n",
    "            rmnse_avg_train_dict[label] = rs['rmnse_avg_TRAIN']\n",
    "            rmnse_avg_test_dict[label] = rs['rmnse_avg_TEST']\n",
    "            pred_test = rs['predictions_all_TEST']\n",
    "            truth_test = rs['truths_all_TEST']\n",
    "            print(pred_test.shape)\n",
    "            M = len(pred_test)\n",
    "            print('{} Number of test'.format(qs.model_name), M)\n",
    "            rmsels = []\n",
    "            for j in range(M):\n",
    "                    rmsels.append(calNRMSE(pred_test[j], truth_test[j]))\n",
    "\n",
    "            rmse_dict[label] = np.mean(np.array(rmsels), axis=0)\n",
    "            print(rmse_dict[label].shape)\n",
    "\n",
    "\n",
    "            targets[label] = truth_test[0]\n",
    "            outputs[label] = pred_test[0]\n",
    "\n",
    "            # For frequency\n",
    "            sp_outputs[label] = rs['sp_pred_TEST']\n",
    "            sp_targets[label] = rs['sp_true_TEST']\n",
    "    else:\n",
    "        print('Not found {}'.format(fname))\n",
    "    # if trained_models is not None:\n",
    "    #     rfolder, label = trained_models[i][0], trained_models[i][1]\n",
    "    #     fname = os.path.join(rfolder, 'data.pickle')\n",
    "    #     if os.path.isfile(fname):\n",
    "    #         print('File existed: ', fname)\n",
    "    #         with open(fname, 'rb') as rfile:\n",
    "    #             #try:\n",
    "    #             rs = pickle.load(rfile)\n",
    "    #             #except:\n",
    "    #             #    continue\n",
    "    #             print(rs.keys())\n",
    "    #             coeffs[label] = np.array(rs['coeffs'])\n",
    "    #             Wouts[label]  = rs['W_out'][:-1].reshape((coeffs[label].shape[0], -1))\n",
    "    #             print(Wouts[label].shape, coeffs[label].shape)\n",
    "    #     else:\n",
    "    #         print('Not found saved model {}'.format(fname))"
   ]
  },
  {
   "cell_type": "code",
   "execution_count": 8,
   "metadata": {},
   "outputs": [
    {
     "name": "stdout",
     "output_type": "stream",
     "text": [
      "[['LSTM-80-(1)', 1.2064266672027109], ['LSTM-80-(2)', 1.3706204527702754], ['LSTM-80-(3)', 1.271992163299086], ['LSTM-100-(1)', 1.1392373863340042], ['LSTM-100-(2)', 1.2740005100570893], ['LSTM-100-(3)', 1.5606296716914485], ['LSTM-120-(1)', 1.214182357485659], ['LSTM-120-(2)', 1.2146606175946864], ['LSTM-120-(3)', 1.141039929488017], ['LSTM-200-(1)', 1.4037708264604738], ['LSTM-200-(2)', 1.4260363909213802], ['LSTM-200-(3)', 1.2551532189298598], ['LSTM-500-(1)', 1.2780587100457148], ['LSTM-500-(2)', 1.2411615217131895], ['LSTM-500-(3)', 1.5192277422883036], ['LSTM-1000-(1)', 1.228413423491027], ['LSTM-1000-(2)', 1.1684160821837812], ['LSTM-1000-(3)', 1.3567768080345202]]\n",
      "Test Average error =  1.2927669155550683\n"
     ]
    }
   ],
   "source": [
    "model_test_error = []\n",
    "test_avg_error = []\n",
    "for label in samples:\n",
    "    model_test_error.append([label,np.mean(rmse_dict[label])])\n",
    "    test_avg_error.append(np.mean(rmse_dict[label]))\n",
    "print(model_test_error)\n",
    "print(\"Test Average error = \",np.mean(test_avg_error))"
   ]
  },
  {
   "cell_type": "code",
   "execution_count": 9,
   "metadata": {},
   "outputs": [
    {
     "name": "stdout",
     "output_type": "stream",
     "text": [
      "{'LSTM-80-(1)': 1.0835170348853467, 'LSTM-80-(2)': 1.1383941722228825, 'LSTM-80-(3)': 1.2244220310672396, 'LSTM-100-(1)': 1.1055570807241213, 'LSTM-100-(2)': 1.081033925670105, 'LSTM-100-(3)': 1.1688340787631635, 'LSTM-120-(1)': 1.0636765405772628, 'LSTM-120-(2)': 1.052611618915613, 'LSTM-120-(3)': 1.1994498573841859, 'LSTM-200-(1)': 1.0730366846329902, 'LSTM-200-(2)': 1.1506426338687556, 'LSTM-200-(3)': 1.0697734186519672, 'LSTM-500-(1)': 1.0221435577868427, 'LSTM-500-(2)': 1.0487135397096272, 'LSTM-500-(3)': 1.1070923596884787, 'LSTM-1000-(1)': 1.1094575169668393, 'LSTM-1000-(2)': 1.0020061245034115, 'LSTM-1000-(3)': 1.156503322952313}\n",
      "{'LSTM-80-(1)': 1.1168952996830417, 'LSTM-80-(2)': 1.25862186091868, 'LSTM-80-(3)': 1.094394954992666, 'LSTM-100-(1)': 1.0617729196857966, 'LSTM-100-(2)': 1.1750297306505932, 'LSTM-100-(3)': 1.3087033223706652, 'LSTM-120-(1)': 1.0305169708737922, 'LSTM-120-(2)': 1.105690010757122, 'LSTM-120-(3)': 1.0066879040514716, 'LSTM-200-(1)': 1.190308439452362, 'LSTM-200-(2)': 1.14560521574959, 'LSTM-200-(3)': 1.1616465805954317, 'LSTM-500-(1)': 1.100397270461971, 'LSTM-500-(2)': 1.1461716683965286, 'LSTM-500-(3)': 1.1761538452420297, 'LSTM-1000-(1)': 1.1319309925028864, 'LSTM-1000-(2)': 1.0426742617251445, 'LSTM-1000-(3)': 1.1204062221203301}\n",
      "Train average error for GRU = 1.1031591943872858\n",
      "Test average error for GRU = 1.1318670816794498\n"
     ]
    }
   ],
   "source": [
    "print(rmnse_avg_train_dict)\n",
    "print(rmnse_avg_test_dict)\n",
    "error_array_test = []\n",
    "error_array_train = []\n",
    "for label in samples:\n",
    "    error_array_train.append(rmnse_avg_train_dict[label])\n",
    "    error_array_test.append(rmnse_avg_test_dict[label])\n",
    "print(\"Train average error for GRU =\", np.mean(error_array_train))\n",
    "print(\"Test average error for GRU =\", np.mean(error_array_test))"
   ]
  },
  {
   "cell_type": "code",
   "execution_count": 10,
   "metadata": {},
   "outputs": [],
   "source": [
    "models = []\n",
    "samples = []\n",
    "size_values = [80,100,120,200,500,1000]\n",
    "layer_values = [1,2,3]\n",
    "for size in size_values:\n",
    "    for layers in layer_values:\n",
    "        string1 = f\"RNN-lstm-RDIM_5-N_used_427-NLAY_{layers}-SLAY_{size}-ISH_statefull-SL_16-PL_4-LR_0.001-DKP_1.0-ZKP_1.0-HSPL_70-IPL_300-NL_0-NICS_3\"\n",
    "        string2 = f\"LSTM-{size}-({layers})\"\n",
    "        models.append([os.path.join(model_path,string1),string2])\n",
    "        samples.append(string2)\n",
    "title = \"Sea Surface Temperatures\""
   ]
  },
  {
   "cell_type": "code",
   "execution_count": 11,
   "metadata": {},
   "outputs": [],
   "source": [
    "train_time_dict = dict()\n",
    "memory_dict = dict()\n",
    "trainable_parameters_dict = dict()\n",
    "for i in range(len(models)):\n",
    "    rfolder, label = models[i][0], models[i][1]\n",
    "    fname = os.path.join(rfolder, 'data.pickle')\n",
    "    if os.path.isfile(fname):\n",
    "        with open(fname, 'rb') as rfile:\n",
    "            try:\n",
    "                rs = pickle.load(rfile)\n",
    "            except:\n",
    "                continue\n",
    "            #print(rs.keys())\n",
    "            train_time_dict[label]=rs[\"total_training_time\"]\n",
    "            trainable_parameters_dict[label]=rs[\"n_trainable_parameters\"]\n",
    "            memory_dict[label]=rs[\"memory\"]\n",
    "    else:\n",
    "        print('Not found {}'.format(fname))"
   ]
  },
  {
   "cell_type": "code",
   "execution_count": 12,
   "metadata": {},
   "outputs": [
    {
     "data": {
      "text/plain": [
       "{'LSTM-80-(1)': 1.1061666011810303,\n",
       " 'LSTM-80-(2)': 1.653533697128296,\n",
       " 'LSTM-80-(3)': 2.486395835876465,\n",
       " 'LSTM-100-(1)': 0.9051737785339355,\n",
       " 'LSTM-100-(2)': 1.9125862121582031,\n",
       " 'LSTM-100-(3)': 2.441983222961426,\n",
       " 'LSTM-120-(1)': 1.3475751876831055,\n",
       " 'LSTM-120-(2)': 2.0844483375549316,\n",
       " 'LSTM-120-(3)': 2.736746311187744,\n",
       " 'LSTM-200-(1)': 1.083221197128296,\n",
       " 'LSTM-200-(2)': 2.013763904571533,\n",
       " 'LSTM-200-(3)': 2.82649302482605,\n",
       " 'LSTM-500-(1)': 2.1218972206115723,\n",
       " 'LSTM-500-(2)': 3.1633200645446777,\n",
       " 'LSTM-500-(3)': 4.3087968826293945,\n",
       " 'LSTM-1000-(1)': 2.0235180854797363,\n",
       " 'LSTM-1000-(2)': 3.896742582321167,\n",
       " 'LSTM-1000-(3)': 5.911282062530518}"
      ]
     },
     "execution_count": 12,
     "metadata": {},
     "output_type": "execute_result"
    }
   ],
   "source": [
    "train_time_dict"
   ]
  },
  {
   "cell_type": "code",
   "execution_count": 13,
   "metadata": {},
   "outputs": [
    {
     "data": {
      "text/plain": [
       "{'LSTM-80-(1)': 330.54296875,\n",
       " 'LSTM-80-(2)': 345.2109375,\n",
       " 'LSTM-80-(3)': 359.703125,\n",
       " 'LSTM-100-(1)': 333.171875,\n",
       " 'LSTM-100-(2)': 347.03515625,\n",
       " 'LSTM-100-(3)': 362.63671875,\n",
       " 'LSTM-120-(1)': 331.875,\n",
       " 'LSTM-120-(2)': 348.73828125,\n",
       " 'LSTM-120-(3)': 364.86328125,\n",
       " 'LSTM-200-(1)': 335.2265625,\n",
       " 'LSTM-200-(2)': 358.38671875,\n",
       " 'LSTM-200-(3)': 381.08203125,\n",
       " 'LSTM-500-(1)': 359.86328125,\n",
       " 'LSTM-500-(2)': 437.7109375,\n",
       " 'LSTM-500-(3)': 511.9296875,\n",
       " 'LSTM-1000-(1)': 455.09375,\n",
       " 'LSTM-1000-(2)': 711.21484375,\n",
       " 'LSTM-1000-(3)': 968.98046875}"
      ]
     },
     "execution_count": 13,
     "metadata": {},
     "output_type": "execute_result"
    }
   ],
   "source": [
    "memory_dict"
   ]
  },
  {
   "cell_type": "code",
   "execution_count": 14,
   "metadata": {},
   "outputs": [
    {
     "data": {
      "text/plain": [
       "{'LSTM-80-(1)': 27925,\n",
       " 'LSTM-80-(2)': 79445,\n",
       " 'LSTM-80-(3)': 130965,\n",
       " 'LSTM-100-(1)': 42905,\n",
       " 'LSTM-100-(2)': 123305,\n",
       " 'LSTM-100-(3)': 203705,\n",
       " 'LSTM-120-(1)': 61085,\n",
       " 'LSTM-120-(2)': 176765,\n",
       " 'LSTM-120-(3)': 292445,\n",
       " 'LSTM-200-(1)': 165805,\n",
       " 'LSTM-200-(2)': 486605,\n",
       " 'LSTM-200-(3)': 807405,\n",
       " 'LSTM-500-(1)': 1014505,\n",
       " 'LSTM-500-(2)': 3016505,\n",
       " 'LSTM-500-(3)': 5018505,\n",
       " 'LSTM-1000-(1)': 4029005,\n",
       " 'LSTM-1000-(2)': 12033005,\n",
       " 'LSTM-1000-(3)': 20037005}"
      ]
     },
     "execution_count": 14,
     "metadata": {},
     "output_type": "execute_result"
    }
   ],
   "source": [
    "trainable_parameters_dict"
   ]
  }
 ],
 "metadata": {
  "kernelspec": {
   "display_name": "base",
   "language": "python",
   "name": "python3"
  },
  "language_info": {
   "codemirror_mode": {
    "name": "ipython",
    "version": 3
   },
   "file_extension": ".py",
   "mimetype": "text/x-python",
   "name": "python",
   "nbconvert_exporter": "python",
   "pygments_lexer": "ipython3",
   "version": "3.7.9"
  }
 },
 "nbformat": 4,
 "nbformat_minor": 4
}
